{
  "nbformat": 4,
  "nbformat_minor": 0,
  "metadata": {
    "colab": {
      "provenance": [],
      "machine_shape": "hm",
      "gpuType": "L4"
    },
    "kernelspec": {
      "name": "python3",
      "display_name": "Python 3"
    },
    "language_info": {
      "name": "python"
    },
    "accelerator": "GPU"
  },
  "cells": [
    {
      "cell_type": "markdown",
      "source": [
        "# **Task 1: Feature Engineering + Deep Neural Network**"
      ],
      "metadata": {
        "id": "MLIq-9zUz5Kl"
      }
    },
    {
      "cell_type": "markdown",
      "source": [
        "## **Step 1: Install and Import Required Libraries**"
      ],
      "metadata": {
        "id": "dujoCL-u19Bc"
      }
    },
    {
      "cell_type": "code",
      "execution_count": null,
      "metadata": {
        "id": "iycRFzQszpAA",
        "colab": {
          "base_uri": "https://localhost:8080/"
        },
        "collapsed": true,
        "outputId": "7a97967c-cf9c-4895-9f92-02056abf979e"
      },
      "outputs": [
        {
          "output_type": "stream",
          "name": "stdout",
          "text": [
            "Requirement already satisfied: pandas in /usr/local/lib/python3.11/dist-packages (2.2.2)\n",
            "Requirement already satisfied: numpy in /usr/local/lib/python3.11/dist-packages (2.0.2)\n",
            "Requirement already satisfied: scikit-learn in /usr/local/lib/python3.11/dist-packages (1.6.1)\n",
            "Collecting whois\n",
            "  Downloading whois-1.20240129.2-py3-none-any.whl.metadata (1.3 kB)\n",
            "Requirement already satisfied: nltk in /usr/local/lib/python3.11/dist-packages (3.9.1)\n",
            "Requirement already satisfied: tensorflow in /usr/local/lib/python3.11/dist-packages (2.18.0)\n",
            "Requirement already satisfied: torch in /usr/local/lib/python3.11/dist-packages (2.6.0+cu124)\n",
            "Requirement already satisfied: python-dateutil>=2.8.2 in /usr/local/lib/python3.11/dist-packages (from pandas) (2.9.0.post0)\n",
            "Requirement already satisfied: pytz>=2020.1 in /usr/local/lib/python3.11/dist-packages (from pandas) (2025.2)\n",
            "Requirement already satisfied: tzdata>=2022.7 in /usr/local/lib/python3.11/dist-packages (from pandas) (2025.2)\n",
            "Requirement already satisfied: scipy>=1.6.0 in /usr/local/lib/python3.11/dist-packages (from scikit-learn) (1.15.3)\n",
            "Requirement already satisfied: joblib>=1.2.0 in /usr/local/lib/python3.11/dist-packages (from scikit-learn) (1.5.0)\n",
            "Requirement already satisfied: threadpoolctl>=3.1.0 in /usr/local/lib/python3.11/dist-packages (from scikit-learn) (3.6.0)\n",
            "Requirement already satisfied: click in /usr/local/lib/python3.11/dist-packages (from nltk) (8.2.0)\n",
            "Requirement already satisfied: regex>=2021.8.3 in /usr/local/lib/python3.11/dist-packages (from nltk) (2024.11.6)\n",
            "Requirement already satisfied: tqdm in /usr/local/lib/python3.11/dist-packages (from nltk) (4.67.1)\n",
            "Requirement already satisfied: absl-py>=1.0.0 in /usr/local/lib/python3.11/dist-packages (from tensorflow) (1.4.0)\n",
            "Requirement already satisfied: astunparse>=1.6.0 in /usr/local/lib/python3.11/dist-packages (from tensorflow) (1.6.3)\n",
            "Requirement already satisfied: flatbuffers>=24.3.25 in /usr/local/lib/python3.11/dist-packages (from tensorflow) (25.2.10)\n",
            "Requirement already satisfied: gast!=0.5.0,!=0.5.1,!=0.5.2,>=0.2.1 in /usr/local/lib/python3.11/dist-packages (from tensorflow) (0.6.0)\n",
            "Requirement already satisfied: google-pasta>=0.1.1 in /usr/local/lib/python3.11/dist-packages (from tensorflow) (0.2.0)\n",
            "Requirement already satisfied: libclang>=13.0.0 in /usr/local/lib/python3.11/dist-packages (from tensorflow) (18.1.1)\n",
            "Requirement already satisfied: opt-einsum>=2.3.2 in /usr/local/lib/python3.11/dist-packages (from tensorflow) (3.4.0)\n",
            "Requirement already satisfied: packaging in /usr/local/lib/python3.11/dist-packages (from tensorflow) (24.2)\n",
            "Requirement already satisfied: protobuf!=4.21.0,!=4.21.1,!=4.21.2,!=4.21.3,!=4.21.4,!=4.21.5,<6.0.0dev,>=3.20.3 in /usr/local/lib/python3.11/dist-packages (from tensorflow) (5.29.4)\n",
            "Requirement already satisfied: requests<3,>=2.21.0 in /usr/local/lib/python3.11/dist-packages (from tensorflow) (2.32.3)\n",
            "Requirement already satisfied: setuptools in /usr/local/lib/python3.11/dist-packages (from tensorflow) (75.2.0)\n",
            "Requirement already satisfied: six>=1.12.0 in /usr/local/lib/python3.11/dist-packages (from tensorflow) (1.17.0)\n",
            "Requirement already satisfied: termcolor>=1.1.0 in /usr/local/lib/python3.11/dist-packages (from tensorflow) (3.1.0)\n",
            "Requirement already satisfied: typing-extensions>=3.6.6 in /usr/local/lib/python3.11/dist-packages (from tensorflow) (4.13.2)\n",
            "Requirement already satisfied: wrapt>=1.11.0 in /usr/local/lib/python3.11/dist-packages (from tensorflow) (1.17.2)\n",
            "Requirement already satisfied: grpcio<2.0,>=1.24.3 in /usr/local/lib/python3.11/dist-packages (from tensorflow) (1.71.0)\n",
            "Requirement already satisfied: tensorboard<2.19,>=2.18 in /usr/local/lib/python3.11/dist-packages (from tensorflow) (2.18.0)\n",
            "Requirement already satisfied: keras>=3.5.0 in /usr/local/lib/python3.11/dist-packages (from tensorflow) (3.8.0)\n",
            "Requirement already satisfied: h5py>=3.11.0 in /usr/local/lib/python3.11/dist-packages (from tensorflow) (3.13.0)\n",
            "Requirement already satisfied: ml-dtypes<0.5.0,>=0.4.0 in /usr/local/lib/python3.11/dist-packages (from tensorflow) (0.4.1)\n",
            "Requirement already satisfied: tensorflow-io-gcs-filesystem>=0.23.1 in /usr/local/lib/python3.11/dist-packages (from tensorflow) (0.37.1)\n",
            "Requirement already satisfied: filelock in /usr/local/lib/python3.11/dist-packages (from torch) (3.18.0)\n",
            "Requirement already satisfied: networkx in /usr/local/lib/python3.11/dist-packages (from torch) (3.4.2)\n",
            "Requirement already satisfied: jinja2 in /usr/local/lib/python3.11/dist-packages (from torch) (3.1.6)\n",
            "Requirement already satisfied: fsspec in /usr/local/lib/python3.11/dist-packages (from torch) (2025.3.2)\n",
            "Collecting nvidia-cuda-nvrtc-cu12==12.4.127 (from torch)\n",
            "  Downloading nvidia_cuda_nvrtc_cu12-12.4.127-py3-none-manylinux2014_x86_64.whl.metadata (1.5 kB)\n",
            "Collecting nvidia-cuda-runtime-cu12==12.4.127 (from torch)\n",
            "  Downloading nvidia_cuda_runtime_cu12-12.4.127-py3-none-manylinux2014_x86_64.whl.metadata (1.5 kB)\n",
            "Collecting nvidia-cuda-cupti-cu12==12.4.127 (from torch)\n",
            "  Downloading nvidia_cuda_cupti_cu12-12.4.127-py3-none-manylinux2014_x86_64.whl.metadata (1.6 kB)\n",
            "Collecting nvidia-cudnn-cu12==9.1.0.70 (from torch)\n",
            "  Downloading nvidia_cudnn_cu12-9.1.0.70-py3-none-manylinux2014_x86_64.whl.metadata (1.6 kB)\n",
            "Collecting nvidia-cublas-cu12==12.4.5.8 (from torch)\n",
            "  Downloading nvidia_cublas_cu12-12.4.5.8-py3-none-manylinux2014_x86_64.whl.metadata (1.5 kB)\n",
            "Collecting nvidia-cufft-cu12==11.2.1.3 (from torch)\n",
            "  Downloading nvidia_cufft_cu12-11.2.1.3-py3-none-manylinux2014_x86_64.whl.metadata (1.5 kB)\n",
            "Collecting nvidia-curand-cu12==10.3.5.147 (from torch)\n",
            "  Downloading nvidia_curand_cu12-10.3.5.147-py3-none-manylinux2014_x86_64.whl.metadata (1.5 kB)\n",
            "Collecting nvidia-cusolver-cu12==11.6.1.9 (from torch)\n",
            "  Downloading nvidia_cusolver_cu12-11.6.1.9-py3-none-manylinux2014_x86_64.whl.metadata (1.6 kB)\n",
            "Collecting nvidia-cusparse-cu12==12.3.1.170 (from torch)\n",
            "  Downloading nvidia_cusparse_cu12-12.3.1.170-py3-none-manylinux2014_x86_64.whl.metadata (1.6 kB)\n",
            "Requirement already satisfied: nvidia-cusparselt-cu12==0.6.2 in /usr/local/lib/python3.11/dist-packages (from torch) (0.6.2)\n",
            "Requirement already satisfied: nvidia-nccl-cu12==2.21.5 in /usr/local/lib/python3.11/dist-packages (from torch) (2.21.5)\n",
            "Requirement already satisfied: nvidia-nvtx-cu12==12.4.127 in /usr/local/lib/python3.11/dist-packages (from torch) (12.4.127)\n",
            "Collecting nvidia-nvjitlink-cu12==12.4.127 (from torch)\n",
            "  Downloading nvidia_nvjitlink_cu12-12.4.127-py3-none-manylinux2014_x86_64.whl.metadata (1.5 kB)\n",
            "Requirement already satisfied: triton==3.2.0 in /usr/local/lib/python3.11/dist-packages (from torch) (3.2.0)\n",
            "Requirement already satisfied: sympy==1.13.1 in /usr/local/lib/python3.11/dist-packages (from torch) (1.13.1)\n",
            "Requirement already satisfied: mpmath<1.4,>=1.1.0 in /usr/local/lib/python3.11/dist-packages (from sympy==1.13.1->torch) (1.3.0)\n",
            "Requirement already satisfied: wheel<1.0,>=0.23.0 in /usr/local/lib/python3.11/dist-packages (from astunparse>=1.6.0->tensorflow) (0.45.1)\n",
            "Requirement already satisfied: rich in /usr/local/lib/python3.11/dist-packages (from keras>=3.5.0->tensorflow) (13.9.4)\n",
            "Requirement already satisfied: namex in /usr/local/lib/python3.11/dist-packages (from keras>=3.5.0->tensorflow) (0.0.9)\n",
            "Requirement already satisfied: optree in /usr/local/lib/python3.11/dist-packages (from keras>=3.5.0->tensorflow) (0.15.0)\n",
            "Requirement already satisfied: charset-normalizer<4,>=2 in /usr/local/lib/python3.11/dist-packages (from requests<3,>=2.21.0->tensorflow) (3.4.2)\n",
            "Requirement already satisfied: idna<4,>=2.5 in /usr/local/lib/python3.11/dist-packages (from requests<3,>=2.21.0->tensorflow) (3.10)\n",
            "Requirement already satisfied: urllib3<3,>=1.21.1 in /usr/local/lib/python3.11/dist-packages (from requests<3,>=2.21.0->tensorflow) (2.4.0)\n",
            "Requirement already satisfied: certifi>=2017.4.17 in /usr/local/lib/python3.11/dist-packages (from requests<3,>=2.21.0->tensorflow) (2025.4.26)\n",
            "Requirement already satisfied: markdown>=2.6.8 in /usr/local/lib/python3.11/dist-packages (from tensorboard<2.19,>=2.18->tensorflow) (3.8)\n",
            "Requirement already satisfied: tensorboard-data-server<0.8.0,>=0.7.0 in /usr/local/lib/python3.11/dist-packages (from tensorboard<2.19,>=2.18->tensorflow) (0.7.2)\n",
            "Requirement already satisfied: werkzeug>=1.0.1 in /usr/local/lib/python3.11/dist-packages (from tensorboard<2.19,>=2.18->tensorflow) (3.1.3)\n",
            "Requirement already satisfied: MarkupSafe>=2.0 in /usr/local/lib/python3.11/dist-packages (from jinja2->torch) (3.0.2)\n",
            "Requirement already satisfied: markdown-it-py>=2.2.0 in /usr/local/lib/python3.11/dist-packages (from rich->keras>=3.5.0->tensorflow) (3.0.0)\n",
            "Requirement already satisfied: pygments<3.0.0,>=2.13.0 in /usr/local/lib/python3.11/dist-packages (from rich->keras>=3.5.0->tensorflow) (2.19.1)\n",
            "Requirement already satisfied: mdurl~=0.1 in /usr/local/lib/python3.11/dist-packages (from markdown-it-py>=2.2.0->rich->keras>=3.5.0->tensorflow) (0.1.2)\n",
            "Downloading whois-1.20240129.2-py3-none-any.whl (61 kB)\n",
            "\u001b[2K   \u001b[90m━━━━━━━━━━━━━━━━━━━━━━━━━━━━━━━━━━━━━━━━\u001b[0m \u001b[32m61.8/61.8 kB\u001b[0m \u001b[31m4.3 MB/s\u001b[0m eta \u001b[36m0:00:00\u001b[0m\n",
            "\u001b[?25hDownloading nvidia_cublas_cu12-12.4.5.8-py3-none-manylinux2014_x86_64.whl (363.4 MB)\n",
            "\u001b[2K   \u001b[90m━━━━━━━━━━━━━━━━━━━━━━━━━━━━━━━━━━━━━━━━\u001b[0m \u001b[32m363.4/363.4 MB\u001b[0m \u001b[31m3.0 MB/s\u001b[0m eta \u001b[36m0:00:00\u001b[0m\n",
            "\u001b[?25hDownloading nvidia_cuda_cupti_cu12-12.4.127-py3-none-manylinux2014_x86_64.whl (13.8 MB)\n",
            "\u001b[2K   \u001b[90m━━━━━━━━━━━━━━━━━━━━━━━━━━━━━━━━━━━━━━━━\u001b[0m \u001b[32m13.8/13.8 MB\u001b[0m \u001b[31m102.6 MB/s\u001b[0m eta \u001b[36m0:00:00\u001b[0m\n",
            "\u001b[?25hDownloading nvidia_cuda_nvrtc_cu12-12.4.127-py3-none-manylinux2014_x86_64.whl (24.6 MB)\n",
            "\u001b[2K   \u001b[90m━━━━━━━━━━━━━━━━━━━━━━━━━━━━━━━━━━━━━━━━\u001b[0m \u001b[32m24.6/24.6 MB\u001b[0m \u001b[31m83.8 MB/s\u001b[0m eta \u001b[36m0:00:00\u001b[0m\n",
            "\u001b[?25hDownloading nvidia_cuda_runtime_cu12-12.4.127-py3-none-manylinux2014_x86_64.whl (883 kB)\n",
            "\u001b[2K   \u001b[90m━━━━━━━━━━━━━━━━━━━━━━━━━━━━━━━━━━━━━━━━\u001b[0m \u001b[32m883.7/883.7 kB\u001b[0m \u001b[31m39.2 MB/s\u001b[0m eta \u001b[36m0:00:00\u001b[0m\n",
            "\u001b[?25hDownloading nvidia_cudnn_cu12-9.1.0.70-py3-none-manylinux2014_x86_64.whl (664.8 MB)\n",
            "\u001b[2K   \u001b[90m━━━━━━━━━━━━━━━━━━━━━━━━━━━━━━━━━━━━━━━━\u001b[0m \u001b[32m664.8/664.8 MB\u001b[0m \u001b[31m2.5 MB/s\u001b[0m eta \u001b[36m0:00:00\u001b[0m\n",
            "\u001b[?25hDownloading nvidia_cufft_cu12-11.2.1.3-py3-none-manylinux2014_x86_64.whl (211.5 MB)\n",
            "\u001b[2K   \u001b[90m━━━━━━━━━━━━━━━━━━━━━━━━━━━━━━━━━━━━━━━━\u001b[0m \u001b[32m211.5/211.5 MB\u001b[0m \u001b[31m4.9 MB/s\u001b[0m eta \u001b[36m0:00:00\u001b[0m\n",
            "\u001b[?25hDownloading nvidia_curand_cu12-10.3.5.147-py3-none-manylinux2014_x86_64.whl (56.3 MB)\n",
            "\u001b[2K   \u001b[90m━━━━━━━━━━━━━━━━━━━━━━━━━━━━━━━━━━━━━━━━\u001b[0m \u001b[32m56.3/56.3 MB\u001b[0m \u001b[31m42.5 MB/s\u001b[0m eta \u001b[36m0:00:00\u001b[0m\n",
            "\u001b[?25hDownloading nvidia_cusolver_cu12-11.6.1.9-py3-none-manylinux2014_x86_64.whl (127.9 MB)\n",
            "\u001b[2K   \u001b[90m━━━━━━━━━━━━━━━━━━━━━━━━━━━━━━━━━━━━━━━━\u001b[0m \u001b[32m127.9/127.9 MB\u001b[0m \u001b[31m19.9 MB/s\u001b[0m eta \u001b[36m0:00:00\u001b[0m\n",
            "\u001b[?25hDownloading nvidia_cusparse_cu12-12.3.1.170-py3-none-manylinux2014_x86_64.whl (207.5 MB)\n",
            "\u001b[2K   \u001b[90m━━━━━━━━━━━━━━━━━━━━━━━━━━━━━━━━━━━━━━━━\u001b[0m \u001b[32m207.5/207.5 MB\u001b[0m \u001b[31m5.0 MB/s\u001b[0m eta \u001b[36m0:00:00\u001b[0m\n",
            "\u001b[?25hDownloading nvidia_nvjitlink_cu12-12.4.127-py3-none-manylinux2014_x86_64.whl (21.1 MB)\n",
            "\u001b[2K   \u001b[90m━━━━━━━━━━━━━━━━━━━━━━━━━━━━━━━━━━━━━━━━\u001b[0m \u001b[32m21.1/21.1 MB\u001b[0m \u001b[31m114.1 MB/s\u001b[0m eta \u001b[36m0:00:00\u001b[0m\n",
            "\u001b[?25hInstalling collected packages: whois, nvidia-nvjitlink-cu12, nvidia-curand-cu12, nvidia-cufft-cu12, nvidia-cuda-runtime-cu12, nvidia-cuda-nvrtc-cu12, nvidia-cuda-cupti-cu12, nvidia-cublas-cu12, nvidia-cusparse-cu12, nvidia-cudnn-cu12, nvidia-cusolver-cu12\n",
            "  Attempting uninstall: nvidia-nvjitlink-cu12\n",
            "    Found existing installation: nvidia-nvjitlink-cu12 12.5.82\n",
            "    Uninstalling nvidia-nvjitlink-cu12-12.5.82:\n",
            "      Successfully uninstalled nvidia-nvjitlink-cu12-12.5.82\n",
            "  Attempting uninstall: nvidia-curand-cu12\n",
            "    Found existing installation: nvidia-curand-cu12 10.3.6.82\n",
            "    Uninstalling nvidia-curand-cu12-10.3.6.82:\n",
            "      Successfully uninstalled nvidia-curand-cu12-10.3.6.82\n",
            "  Attempting uninstall: nvidia-cufft-cu12\n",
            "    Found existing installation: nvidia-cufft-cu12 11.2.3.61\n",
            "    Uninstalling nvidia-cufft-cu12-11.2.3.61:\n",
            "      Successfully uninstalled nvidia-cufft-cu12-11.2.3.61\n",
            "  Attempting uninstall: nvidia-cuda-runtime-cu12\n",
            "    Found existing installation: nvidia-cuda-runtime-cu12 12.5.82\n",
            "    Uninstalling nvidia-cuda-runtime-cu12-12.5.82:\n",
            "      Successfully uninstalled nvidia-cuda-runtime-cu12-12.5.82\n",
            "  Attempting uninstall: nvidia-cuda-nvrtc-cu12\n",
            "    Found existing installation: nvidia-cuda-nvrtc-cu12 12.5.82\n",
            "    Uninstalling nvidia-cuda-nvrtc-cu12-12.5.82:\n",
            "      Successfully uninstalled nvidia-cuda-nvrtc-cu12-12.5.82\n",
            "  Attempting uninstall: nvidia-cuda-cupti-cu12\n",
            "    Found existing installation: nvidia-cuda-cupti-cu12 12.5.82\n",
            "    Uninstalling nvidia-cuda-cupti-cu12-12.5.82:\n",
            "      Successfully uninstalled nvidia-cuda-cupti-cu12-12.5.82\n",
            "  Attempting uninstall: nvidia-cublas-cu12\n",
            "    Found existing installation: nvidia-cublas-cu12 12.5.3.2\n",
            "    Uninstalling nvidia-cublas-cu12-12.5.3.2:\n",
            "      Successfully uninstalled nvidia-cublas-cu12-12.5.3.2\n",
            "  Attempting uninstall: nvidia-cusparse-cu12\n",
            "    Found existing installation: nvidia-cusparse-cu12 12.5.1.3\n",
            "    Uninstalling nvidia-cusparse-cu12-12.5.1.3:\n",
            "      Successfully uninstalled nvidia-cusparse-cu12-12.5.1.3\n",
            "  Attempting uninstall: nvidia-cudnn-cu12\n",
            "    Found existing installation: nvidia-cudnn-cu12 9.3.0.75\n",
            "    Uninstalling nvidia-cudnn-cu12-9.3.0.75:\n",
            "      Successfully uninstalled nvidia-cudnn-cu12-9.3.0.75\n",
            "  Attempting uninstall: nvidia-cusolver-cu12\n",
            "    Found existing installation: nvidia-cusolver-cu12 11.6.3.83\n",
            "    Uninstalling nvidia-cusolver-cu12-11.6.3.83:\n",
            "      Successfully uninstalled nvidia-cusolver-cu12-11.6.3.83\n",
            "Successfully installed nvidia-cublas-cu12-12.4.5.8 nvidia-cuda-cupti-cu12-12.4.127 nvidia-cuda-nvrtc-cu12-12.4.127 nvidia-cuda-runtime-cu12-12.4.127 nvidia-cudnn-cu12-9.1.0.70 nvidia-cufft-cu12-11.2.1.3 nvidia-curand-cu12-10.3.5.147 nvidia-cusolver-cu12-11.6.1.9 nvidia-cusparse-cu12-12.3.1.170 nvidia-nvjitlink-cu12-12.4.127 whois-1.20240129.2\n"
          ]
        }
      ],
      "source": [
        "!pip install pandas numpy scikit-learn whois nltk tensorflow torch"
      ]
    },
    {
      "cell_type": "code",
      "source": [
        "# === Import Required Libraries ===\n",
        "\n",
        "import pandas as pd                 # For handling tabular data (loading CSV, feature columns)\n",
        "import numpy as np                  # Useful for numerical operations and arrays\n",
        "import torch                        # Main library for PyTorch tensor operations\n",
        "import torch.nn as nn               # Contains classes to define neural network layers\n",
        "import torch.optim as optim         # Provides optimization algorithms like Adam\n",
        "import re                           # Used for pattern matching (e.g., detecting IP addresses)\n",
        "import whois                        # Library to query domain registration information (for domain age)\n",
        "import datetime                     # To calculate how old a domain is\n",
        "import matplotlib.pyplot as plt     # For plotting loss curves (to monitor training progress)\n",
        "from urllib.parse import urlparse   # Helps extract the domain part of a URL\n",
        "from sklearn.preprocessing import StandardScaler  # To normalize features to same scale\n",
        "from sklearn.model_selection import train_test_split  # To split dataset into train/test sets\n",
        "from sklearn.metrics import accuracy_score  # To calculate final accuracy of the model\n"
      ],
      "metadata": {
        "id": "EB0qd-XR2ScA"
      },
      "execution_count": null,
      "outputs": []
    },
    {
      "cell_type": "markdown",
      "source": [
        "## **Step 2: Load the Dataset**"
      ],
      "metadata": {
        "id": "q2EUWfDf2af1"
      }
    },
    {
      "cell_type": "code",
      "source": [
        "# === Step 1: Load the phishing URL dataset ===\n",
        "\n",
        "df = pd.read_csv('phishing_site_urls.csv')  # Loads the dataset which has two columns: 'URL' and 'Label'\n",
        "print(df.head())  # Shows first few rows to verify structure (URLs + labels like 'good' or 'bad')\n",
        "\n",
        "# Add this line to drop rows with NaN in the 'Label' column\n",
        "df.dropna(subset=['Label'], inplace=True)\n"
      ],
      "metadata": {
        "id": "fhHILCZq2q1q",
        "colab": {
          "base_uri": "https://localhost:8080/"
        },
        "outputId": "9e8a4f38-8878-4f2e-bfcb-1869d3407240"
      },
      "execution_count": null,
      "outputs": [
        {
          "output_type": "stream",
          "name": "stdout",
          "text": [
            "                                                 URL Label\n",
            "0  nobell.it/70ffb52d079109dca5664cce6f317373782/...   bad\n",
            "1  www.dghjdgf.com/paypal.co.uk/cycgi-bin/webscrc...   bad\n",
            "2  serviciosbys.com/paypal.cgi.bin.get-into.herf....   bad\n",
            "3  mail.printakid.com/www.online.americanexpress....   bad\n",
            "4  thewhiskeydregs.com/wp-content/themes/widescre...   bad\n"
          ]
        }
      ]
    },
    {
      "cell_type": "markdown",
      "source": [
        "## **Step 3: Feature Engineering**"
      ],
      "metadata": {
        "id": "oGDr72G14Yod"
      }
    },
    {
      "cell_type": "code",
      "source": [
        "def has_ip_address(url):\n",
        "    # Returns 1 if URL contains an IP address; 0 otherwise.\n",
        "    # WHY: Phishing URLs often use IPs to avoid detection by domain filters.\n",
        "    return 1 if re.match(r'\\d+\\.\\d+\\.\\d+\\.\\d+', url) else 0\n"
      ],
      "metadata": {
        "id": "aQrQm71a4j3Y"
      },
      "execution_count": null,
      "outputs": []
    },
    {
      "cell_type": "code",
      "source": [
        "def count_dots(url):\n",
        "    # Returns the number of dots in the URL.\n",
        "    # WHY: Phishing sites often use subdomains to mimic legit sites (like login.secure.paypal.fake.com).\n",
        "    return url.count('.')\n"
      ],
      "metadata": {
        "id": "sIoW8MqL4lCj"
      },
      "execution_count": null,
      "outputs": []
    },
    {
      "cell_type": "code",
      "source": [
        "def url_length(url):\n",
        "    # Returns length of URL string.\n",
        "    # WHY: Long URLs can be suspicious — attackers add noise to hide malicious content.\n",
        "    return len(url)\n"
      ],
      "metadata": {
        "id": "018N5ZPg4nAS"
      },
      "execution_count": null,
      "outputs": []
    },
    {
      "cell_type": "code",
      "source": [
        "def domain_age(url):\n",
        "    # Calculates how old a domain is in years based on WHOIS lookup.\n",
        "    # WHY: Legitimate websites are usually older; phishing domains are created recently.\n",
        "    try:\n",
        "        domain_info = whois.whois(urlparse(url).netloc)  # Extract domain and look up WHOIS\n",
        "        creation_date = domain_info.creation_date\n",
        "        if isinstance(creation_date, list):  # Sometimes it's a list\n",
        "            creation_date = creation_date[0]\n",
        "        age = (datetime.datetime.now() - creation_date).days / 365  # Convert days to years\n",
        "        return max(age, 0)  # Ensure non-negative\n",
        "    except:\n",
        "        return 0  # If WHOIS lookup fails (likely suspicious), assume age 0\n"
      ],
      "metadata": {
        "id": "gl1EdDgC4px7"
      },
      "execution_count": null,
      "outputs": []
    },
    {
      "cell_type": "code",
      "source": [
        "def has_redirection(url):\n",
        "    # Checks for presence of redirection ('//') after the protocol.\n",
        "    # WHY: Phishing URLs may use redirection to forward to malicious sites.\n",
        "    return 1 if '//' in url[7:] else 0  # Skip 'http://'\n"
      ],
      "metadata": {
        "id": "ARLhcTCG4rkB"
      },
      "execution_count": null,
      "outputs": []
    },
    {
      "cell_type": "code",
      "source": [
        "def contains_javascript(url):\n",
        "    # Returns 1 if 'javascript' keyword is found.\n",
        "    # WHY: URLs containing JavaScript may execute malicious code.\n",
        "    return 1 if \"javascript\" in url.lower() else 0\n"
      ],
      "metadata": {
        "id": "-oVvxlLX4t-Z"
      },
      "execution_count": null,
      "outputs": []
    },
    {
      "cell_type": "code",
      "source": [
        "def count_special_chars(url):\n",
        "    # Counts special characters like @, %, #, etc.\n",
        "    # WHY: Phishing URLs often use obfuscation via special characters.\n",
        "    return len(re.findall(r'[@!#$%^&*()<>?/|}{~:]', url))\n"
      ],
      "metadata": {
        "id": "KOuGbc6w4vxr"
      },
      "execution_count": null,
      "outputs": []
    },
    {
      "cell_type": "markdown",
      "source": [
        "## **Step 4: Apply Feature Extractions to Dataset**"
      ],
      "metadata": {
        "id": "efmltnvK40Fx"
      }
    },
    {
      "cell_type": "code",
      "source": [
        "df['has_ip'] = df['URL'].apply(has_ip_address)\n",
        "df['dot_count'] = df['URL'].apply(count_dots)\n",
        "df['url_length'] = df['URL'].apply(url_length)\n",
        "df['domain_age'] = df['URL'].apply(domain_age)\n",
        "df['contains_javascript'] = df['URL'].apply(contains_javascript)\n",
        "df['has_redirection'] = df['URL'].apply(has_redirection)\n",
        "df['special_char_count'] = df['URL'].apply(count_special_chars)\n",
        "\n",
        "# WHY: We’re creating 7 new numerical features that help identify phishing characteristics.\n"
      ],
      "metadata": {
        "id": "pwWmqGUQ4-Jp"
      },
      "execution_count": null,
      "outputs": []
    },
    {
      "cell_type": "code",
      "source": [
        "df = df.drop(columns=['URL'])  # Drop the original text column since we now have numerical features\n",
        "\n",
        "df['Label'] = df['Label'].map({'good': 0, 'bad': 1})  # Convert labels to binary (0=legit, 1=phishing)\n",
        "# WHY: Neural networks work with numbers, not text labels\n"
      ],
      "metadata": {
        "id": "G4v_ARdM5Ao8"
      },
      "execution_count": null,
      "outputs": []
    },
    {
      "cell_type": "markdown",
      "source": [
        "## **Step 5: Prepare Data for Neural Network**"
      ],
      "metadata": {
        "id": "HyNNeGaJ5GS8"
      }
    },
    {
      "cell_type": "code",
      "source": [
        "features = ['has_ip', 'dot_count', 'url_length', 'domain_age',\n",
        "            'contains_javascript', 'has_redirection', 'special_char_count']\n",
        "X = df[features].values  # Input features\n",
        "y = df['Label'].values   # Target labels\n"
      ],
      "metadata": {
        "id": "_q6Q3oOY5QvT"
      },
      "execution_count": null,
      "outputs": []
    },
    {
      "cell_type": "code",
      "source": [
        "scaler = StandardScaler()\n",
        "X = scaler.fit_transform(X)\n",
        "# WHY: Feature normalization helps training — ensures all features have similar range (mean=0, std=1),\n",
        "# which leads to faster convergence and prevents one feature from dominating.\n"
      ],
      "metadata": {
        "id": "8yEBT1ab5R2b"
      },
      "execution_count": null,
      "outputs": []
    },
    {
      "cell_type": "code",
      "source": [
        "X_train, X_test, y_train, y_test = train_test_split(\n",
        "    X, y, test_size=0.2, random_state=42)\n",
        "# WHY: We split data into 80% training and 20% testing to evaluate model generalization.\n"
      ],
      "metadata": {
        "id": "CrWCHbdn5UDi"
      },
      "execution_count": null,
      "outputs": []
    },
    {
      "cell_type": "code",
      "source": [
        "X_train_tensor = torch.tensor(X_train, dtype=torch.float32)\n",
        "y_train_tensor = torch.tensor(y_train, dtype=torch.float32).unsqueeze(1)\n",
        "X_test_tensor = torch.tensor(X_test, dtype=torch.float32)\n",
        "y_test_tensor = torch.tensor(y_test, dtype=torch.float32).unsqueeze(1)\n",
        "# WHY: PyTorch models need tensors as input. `unsqueeze(1)` reshapes y to be a column vector.\n"
      ],
      "metadata": {
        "id": "aokrgx4A5V3I"
      },
      "execution_count": null,
      "outputs": []
    },
    {
      "cell_type": "markdown",
      "source": [
        "## **Step 6: Define Deep Neural Network**"
      ],
      "metadata": {
        "id": "W3JbYItz5as2"
      }
    },
    {
      "cell_type": "code",
      "source": [
        "class PhishingDNN(nn.Module):\n",
        "    def __init__(self, input_dim):\n",
        "        super(PhishingDNN, self).__init__()\n",
        "\n",
        "        self.fc1 = nn.Linear(input_dim, 16)  # Layer 1: Fully connected input → 16\n",
        "        self.bn1 = nn.BatchNorm1d(16)        # Normalize layer outputs (helps convergence)\n",
        "        self.relu1 = nn.LeakyReLU(0.01)      # Activation to avoid dead neurons\n",
        "\n",
        "        self.fc2 = nn.Linear(16, 8)          # Layer 2: 16 → 8\n",
        "        self.bn2 = nn.BatchNorm1d(8)\n",
        "        self.relu2 = nn.LeakyReLU(0.01)\n",
        "\n",
        "        self.fc3 = nn.Linear(8, 1)           # Output layer: 8 → 1\n",
        "        self.sigmoid = nn.Sigmoid()         # Outputs probability between 0 and 1\n",
        "\n",
        "    def forward(self, x):\n",
        "        x = self.relu1(self.bn1(self.fc1(x)))\n",
        "        x = self.relu2(self.bn2(self.fc2(x)))\n",
        "        x = self.sigmoid(self.fc3(x))       # Final prediction\n",
        "        return x\n",
        "\n",
        "#📌 WHY DNN?\n",
        "#Learns complex non-linear relationships between features and labels.\n",
        "#Multiple layers help capture patterns that shallow models (like logistic regression) might miss."
      ],
      "metadata": {
        "id": "om29oFF26MG7"
      },
      "execution_count": null,
      "outputs": []
    },
    {
      "cell_type": "markdown",
      "source": [
        "## **Step 7: Train the Neural Network**"
      ],
      "metadata": {
        "id": "McCY91Qz6iUw"
      }
    },
    {
      "cell_type": "code",
      "source": [
        "model = PhishingDNN(input_dim=X_train.shape[1])  # Initialize model with 7 input features\n",
        "\n",
        "criterion = nn.BCELoss()  # Loss function for binary classification\n",
        "optimizer = optim.Adam(model.parameters(), lr=0.001)  # Adam optimizer adjusts learning rate automatically\n"
      ],
      "metadata": {
        "id": "jHVu1m-T6tf9"
      },
      "execution_count": null,
      "outputs": []
    },
    {
      "cell_type": "code",
      "source": [
        "epochs = 500\n",
        "train_losses = []\n",
        "\n",
        "for epoch in range(epochs):\n",
        "    model.train()\n",
        "    optimizer.zero_grad()\n",
        "    outputs = model(X_train_tensor)  # Forward pass\n",
        "    loss = criterion(outputs, y_train_tensor)  # Compute loss between prediction and true labels\n",
        "    loss.backward()  # Backpropagation\n",
        "    optimizer.step()  # Update weights\n",
        "\n",
        "    train_losses.append(loss.item())  # Save loss for plotting\n",
        "\n",
        "    if epoch % 10 == 0:\n",
        "        print(f\"Epoch {epoch+1}/{epochs}, Loss: {loss.item():.6f}\")\n",
        "\n",
        "#📌 WHY 500 Epochs?\n",
        "#More epochs help the model converge properly.\n",
        "#Printing every 10 steps helps monitor training progress without flooding logs.\n"
      ],
      "metadata": {
        "id": "1CEOoDe_6vys",
        "colab": {
          "base_uri": "https://localhost:8080/"
        },
        "collapsed": true,
        "outputId": "d6e7f93c-c2dd-4c0e-f8ce-5450656bb47b"
      },
      "execution_count": null,
      "outputs": [
        {
          "output_type": "stream",
          "name": "stdout",
          "text": [
            "Epoch 1/500, Loss: 0.709954\n",
            "Epoch 11/500, Loss: 0.676167\n",
            "Epoch 21/500, Loss: 0.653408\n",
            "Epoch 31/500, Loss: 0.635290\n",
            "Epoch 41/500, Loss: 0.619376\n",
            "Epoch 51/500, Loss: 0.604757\n",
            "Epoch 61/500, Loss: 0.591228\n",
            "Epoch 71/500, Loss: 0.578624\n",
            "Epoch 81/500, Loss: 0.566929\n",
            "Epoch 91/500, Loss: 0.556277\n",
            "Epoch 101/500, Loss: 0.546942\n",
            "Epoch 111/500, Loss: 0.538769\n",
            "Epoch 121/500, Loss: 0.531415\n",
            "Epoch 131/500, Loss: 0.525045\n",
            "Epoch 141/500, Loss: 0.519705\n",
            "Epoch 151/500, Loss: 0.515291\n",
            "Epoch 161/500, Loss: 0.511707\n",
            "Epoch 171/500, Loss: 0.508793\n",
            "Epoch 181/500, Loss: 0.506388\n",
            "Epoch 191/500, Loss: 0.504512\n",
            "Epoch 201/500, Loss: 0.503019\n",
            "Epoch 211/500, Loss: 0.501726\n",
            "Epoch 221/500, Loss: 0.500551\n",
            "Epoch 231/500, Loss: 0.499563\n",
            "Epoch 241/500, Loss: 0.498771\n",
            "Epoch 251/500, Loss: 0.498124\n",
            "Epoch 261/500, Loss: 0.497550\n",
            "Epoch 271/500, Loss: 0.497019\n",
            "Epoch 281/500, Loss: 0.496510\n",
            "Epoch 291/500, Loss: 0.496027\n",
            "Epoch 301/500, Loss: 0.495576\n",
            "Epoch 311/500, Loss: 0.495153\n",
            "Epoch 321/500, Loss: 0.494764\n",
            "Epoch 331/500, Loss: 0.494393\n",
            "Epoch 341/500, Loss: 0.494066\n",
            "Epoch 351/500, Loss: 0.493776\n",
            "Epoch 361/500, Loss: 0.493491\n",
            "Epoch 371/500, Loss: 0.493235\n",
            "Epoch 381/500, Loss: 0.492993\n",
            "Epoch 391/500, Loss: 0.492960\n",
            "Epoch 401/500, Loss: 0.492751\n",
            "Epoch 411/500, Loss: 0.492540\n",
            "Epoch 421/500, Loss: 0.492323\n",
            "Epoch 431/500, Loss: 0.492146\n",
            "Epoch 441/500, Loss: 0.492139\n",
            "Epoch 451/500, Loss: 0.491928\n",
            "Epoch 461/500, Loss: 0.491727\n",
            "Epoch 471/500, Loss: 0.491539\n",
            "Epoch 481/500, Loss: 0.491363\n",
            "Epoch 491/500, Loss: 0.491195\n"
          ]
        }
      ]
    },
    {
      "cell_type": "markdown",
      "source": [
        "## **Step 8: Evaluate the Model**"
      ],
      "metadata": {
        "id": "hmG2faaJ68TG"
      }
    },
    {
      "cell_type": "code",
      "source": [
        "model.eval()  # Switch to evaluation mode (disables batchnorm/dropout randomness)\n",
        "with torch.no_grad():  # Disable gradient tracking for faster inference\n",
        "    y_pred = model(X_test_tensor)\n",
        "    y_pred = (y_pred > 0.5).int()  # Convert probability to class (0 or 1)\n",
        "accuracy = accuracy_score(y_test, y_pred.numpy())  # Compare predictions with true labels\n",
        "print(f\"DNN Model Accuracy: {accuracy * 100:.2f}%\")\n",
        "# WHY: Accuracy gives overall effectiveness of model on unseen test data"
      ],
      "metadata": {
        "id": "XEmlpr-07F4_",
        "colab": {
          "base_uri": "https://localhost:8080/"
        },
        "outputId": "ba8a99cf-2469-4939-af73-b180462af99e"
      },
      "execution_count": null,
      "outputs": [
        {
          "output_type": "stream",
          "name": "stdout",
          "text": [
            "DNN Model Accuracy: 77.95%\n"
          ]
        }
      ]
    },
    {
      "cell_type": "markdown",
      "source": [
        "## **Step 9: Plot the Training Loss Curve**"
      ],
      "metadata": {
        "id": "c2JyKvW-7M0B"
      }
    },
    {
      "cell_type": "code",
      "source": [
        "plt.plot(range(1, epochs + 1), train_losses, label='Training Loss')\n",
        "plt.xlabel('Epoch')\n",
        "plt.ylabel('Loss')\n",
        "plt.title('Training Loss Over Epochs')\n",
        "plt.legend()\n",
        "plt.show()\n",
        "# WHY: Visual feedback — ensures the model is learning (loss should go down)\n"
      ],
      "metadata": {
        "id": "pvIWaob37XYa",
        "colab": {
          "base_uri": "https://localhost:8080/",
          "height": 472
        },
        "outputId": "3921573a-8e96-4f0a-d54c-2ad6eda3ae0a"
      },
      "execution_count": null,
      "outputs": [
        {
          "output_type": "display_data",
          "data": {
            "text/plain": [
              "<Figure size 640x480 with 1 Axes>"
            ],
            "image/png": "[encoded data removed]"
          },
          "metadata": {}
        }
      ]
    }
  ]
}